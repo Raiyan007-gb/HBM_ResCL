{
 "cells": [
  {
   "cell_type": "code",
   "execution_count": null,
   "metadata": {},
   "outputs": [
    {
     "ename": "",
     "evalue": "",
     "output_type": "error",
     "traceback": [
      "\u001b[1;31mRunning cells with 'Python 3.8.10' requires the ipykernel package.\n",
      "\u001b[1;31mRun the following command to install 'ipykernel' into the Python environment. \n",
      "\u001b[1;31mCommand: '/bin/python3 -m pip install ipykernel -U --user --force-reinstall'"
     ]
    }
   ],
   "source": [
    "import torch\n",
    "import numpy as np\n",
    "import torchvision.transforms as transforms\n",
    "from torch.utils.data import DataLoader\n",
    "from sklearn.metrics import confusion_matrix\n",
    "import matplotlib.pyplot as plt\n",
    "import seaborn as sns\n",
    "import os\n",
    "from PIL import Image\n",
    "from harbarium2 import LT_Dataset_Test, iNaturalist2018  # Assuming harbarium2.py contains your dataset classes and configurations\n",
    "\n",
    "# Define paths and configurations\n",
    "checkpoint_path = '/HBM/data/iNaturalist2018/resnet50_reslt_bt256/checkpoint.pth.tar'\n",
    "root = \"/mnt/3ff84d1d-7336-4128-810e-2e29f65bcbc5/visual_categorization/herbarium-2022-fgvc9/\"\n",
    "val_txt = \"/mnt/3ff84d1d-7336-4128-810e-2e29f65bcbc5/visual_categorization/herbarium-2022-fgvc9/val_hbm.txt\"\n",
    "\n",
    "batch_size = 32\n",
    "num_works = 12\n",
    "\n",
    "# Define transforms for test data\n",
    "normalize = transforms.Normalize(mean=[0.466, 0.471, 0.380], std=[0.195, 0.194, 0.192])\n",
    "transform_test = transforms.Compose([\n",
    "    transforms.Resize(256),\n",
    "    transforms.CenterCrop(224),\n",
    "    transforms.ToTensor(),\n",
    "    normalize,\n",
    "])\n",
    "\n",
    "# Load model from checkpoint\n",
    "checkpoint = torch.load(checkpoint_path)\n",
    "model = checkpoint['model']\n",
    "model.eval()\n",
    "\n",
    "# Load dataset for testing\n",
    "testset = LT_Dataset_Test(root, val_txt, transform=transform_test, class_map=checkpoint['class_map'])\n",
    "test_loader = DataLoader(testset, batch_size=batch_size, shuffle=False, num_workers=num_works, pin_memory=True)\n",
    "\n",
    "# Initialize lists to store predictions and true labels\n",
    "predicted_labels = []\n",
    "true_labels = []\n",
    "\n",
    "# Run inference on test data\n",
    "with torch.no_grad():\n",
    "    for images, targets in test_loader:\n",
    "        images = images.cuda()  # Assuming GPU availability\n",
    "        outputs = model(images)\n",
    "        _, preds = torch.max(outputs, 1)\n",
    "        predicted_labels.extend(preds.cpu().numpy())\n",
    "        true_labels.extend(targets.cpu().numpy())\n",
    "\n",
    "# Compute confusion matrix\n",
    "cm = confusion_matrix(true_labels, predicted_labels)\n",
    "\n",
    "# Visualize the confusion matrix\n",
    "plt.figure(figsize=(10, 8))\n",
    "sns.heatmap(cm, annot=True, fmt='d', cmap='Blues', cbar=False)\n",
    "plt.xlabel('Predicted Label')\n",
    "plt.ylabel('True Label')\n",
    "plt.title('Confusion Matrix')\n",
    "plt.show()\n"
   ]
  },
  {
   "cell_type": "code",
   "execution_count": null,
   "metadata": {},
   "outputs": [],
   "source": []
  }
 ],
 "metadata": {
  "kernelspec": {
   "display_name": "Python 3",
   "language": "python",
   "name": "python3"
  },
  "language_info": {
   "name": "python",
   "version": "3.8.10"
  }
 },
 "nbformat": 4,
 "nbformat_minor": 2
}
